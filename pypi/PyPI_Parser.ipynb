{
 "cells": [
  {
   "cell_type": "code",
   "execution_count": 1,
   "metadata": {
    "collapsed": true
   },
   "outputs": [],
   "source": [
    "# What you've seen before\n",
    "import re\n",
    "from datetime import datetime\n",
    "import requests\n",
    "import pandas as pd\n",
    "import seaborn as sns\n",
    "import matplotlib.pyplot as plt\n",
    "% matplotlib inline\n",
    "\n",
    "# What's new\n",
    "from bs4 import BeautifulSoup # We'll be using this to scrape through HTML documents\n",
    "import re # We'll be using regular expressions (a bit) to search through text\n",
    "import networkx as nx # We'll be using this to graph a website (not super important)"
   ]
  },
  {
   "cell_type": "code",
   "execution_count": 2,
   "metadata": {
    "collapsed": true
   },
   "outputs": [],
   "source": [
    "def pypi_parser(pypi_url):\n",
    "    html_doc = requests.get(pypi_url).text\n",
    "    soup = BeautifulSoup(html_doc, \"html5lib\")\n",
    "    for tagline in soup.find('tr',{'class':'odd'}):\n",
    "        if tagline == None:\n",
    "            continue\n",
    "        match = re.search(r'\\d{4}-\\d{2}-\\d{2}', str(tagline))\n",
    "        if match != None:\n",
    "            date = datetime.strptime(match.group(), '%Y-%m-%d').date()\n",
    "    temp = soup.find('ul',{'class':'nodot'}).get_text().split('\\n')\n",
    "    temp = [name for name in temp if name.strip()]\n",
    "    author = temp[1].strip()\n",
    "    homePage = temp[3]\n",
    "    license = temp[7].strip()\n",
    "    content = {\n",
    "        'Author':author,\n",
    "        'Release (upload) Date':str(date),\n",
    "        'License':license,\n",
    "        'Home Page':homePage\n",
    "    }\n",
    "    return content\n"
   ]
  },
  {
   "cell_type": "code",
   "execution_count": 3,
   "metadata": {},
   "outputs": [
    {
     "data": {
      "text/plain": [
       "{'Author': 'Leonard Richardson',\n",
       " 'Home Page': '  http://www.crummy.com/software/BeautifulSoup/bs4/',\n",
       " 'License': 'MIT',\n",
       " 'Release (upload) Date': '2016-08-03'}"
      ]
     },
     "execution_count": 3,
     "metadata": {},
     "output_type": "execute_result"
    }
   ],
   "source": [
    "pypi_parser('https://pypi.python.org/pypi/beautifulsoup4/4.5.1')"
   ]
  },
  {
   "cell_type": "code",
   "execution_count": 4,
   "metadata": {},
   "outputs": [
    {
     "data": {
      "text/plain": [
       "{'Author': 'Mike Bayer',\n",
       " 'Home Page': '  http://www.sqlalchemy.org',\n",
       " 'License': 'Development Status :: 5 - Production/Stable',\n",
       " 'Release (upload) Date': '2016-10-05'}"
      ]
     },
     "execution_count": 4,
     "metadata": {},
     "output_type": "execute_result"
    }
   ],
   "source": [
    "pypi_parser('https://pypi.python.org/pypi/SQLAlchemy/1.1.0')"
   ]
  },
  {
   "cell_type": "code",
   "execution_count": null,
   "metadata": {
    "collapsed": true
   },
   "outputs": [],
   "source": []
  }
 ],
 "metadata": {
  "kernelspec": {
   "display_name": "Python 3",
   "language": "python",
   "name": "python3"
  },
  "language_info": {
   "codemirror_mode": {
    "name": "ipython",
    "version": 3
   },
   "file_extension": ".py",
   "mimetype": "text/x-python",
   "name": "python",
   "nbconvert_exporter": "python",
   "pygments_lexer": "ipython3",
   "version": "3.6.1"
  }
 },
 "nbformat": 4,
 "nbformat_minor": 2
}

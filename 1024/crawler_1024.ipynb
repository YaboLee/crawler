{
 "cells": [
  {
   "cell_type": "code",
   "execution_count": 1,
   "metadata": {
    "collapsed": true
   },
   "outputs": [],
   "source": [
    "import requests\n",
    "from bs4 import BeautifulSoup\n",
    "import re\n",
    "import urllib"
   ]
  },
  {
   "cell_type": "code",
   "execution_count": 4,
   "metadata": {},
   "outputs": [
    {
     "name": "stdout",
     "output_type": "stream",
     "text": [
      "CPU times: user 0 ns, sys: 0 ns, total: 0 ns\n",
      "Wall time: 11.4 µs\n"
     ]
    }
   ],
   "source": [
    "%%time\n",
    "def crawler_1024(url):\n",
    "    # request the index page with header\n",
    "    headers = {'User-agent' : 'Mozilla/5.0 (Windows NT 6.2; WOW64; rv:22.0) Gecko/20100101 Firefox/22.0'}\n",
    "    r = requests.get(url, headers = headers).text\n",
    "\n",
    "    # analyse it with bs4\n",
    "    soup = BeautifulSoup(r, \"html5lib\")\n",
    "\n",
    "    # raw_link is imcomplete link\n",
    "    raw_link = []\n",
    "    pattern = re.compile('htm_data')\n",
    "    # find all <a>\n",
    "    for i in soup.find_all('a'):\n",
    "    #     extract the href\n",
    "        temp = i.get('href')\n",
    "    #     the href item should not be none\n",
    "        if type(temp) == str:\n",
    "    #         regular expression find str with the same pattern\n",
    "            match = re.match(pattern, temp) \n",
    "    #     match should be the str with the result rather than none(no match)\n",
    "            if match:\n",
    "                raw_link.append(match.string)\n",
    "\n",
    "    # complete the link\n",
    "    # can be improved with map\n",
    "    title = 'https://t66y.com/'\n",
    "    link = []\n",
    "    for i in raw_link:\n",
    "        link.append(title+i)\n",
    "    # remove the repeated link since the feature of the site\n",
    "    link = link[::2]\n",
    "    # real post is from th.\n",
    "    link = link[7:]\n",
    "    # step into the post\n",
    "    page = requests.get(link[2]).text\n",
    "    soup_page = BeautifulSoup(page, 'html5lib')\n",
    "\n",
    "    # the site prevent crawler so we need a disguise\n",
    "    opener=urllib.request.build_opener()\n",
    "    opener.addheaders=[('User-Agent','Mozilla/5.0 (Windows NT 6.1; WOW64) AppleWebKit/537.36 (KHTML, like Gecko) Chrome/36.0.1941.0 Safari/537.36')]\n",
    "    urllib.request.install_opener(opener)\n",
    "\n",
    "    # download the image\n",
    "    index = 0;\n",
    "    for i in soup_page.find_all('input',{'type':'image'}):\n",
    "        urllib.request.urlretrieve(i['src'], str(index)+\".jpg\")\n",
    "        index += 1\n"
   ]
  },
  {
   "cell_type": "code",
   "execution_count": 6,
   "metadata": {},
   "outputs": [
    {
     "name": "stdout",
     "output_type": "stream",
     "text": [
      "CPU times: user 1.59 s, sys: 672 ms, total: 2.26 s\n",
      "Wall time: 13.6 s\n"
     ]
    }
   ],
   "source": [
    "url = 'https://t66y.com/thread0806.php?fid=16'\n",
    "%time crawler_1024(url)"
   ]
  },
  {
   "cell_type": "code",
   "execution_count": null,
   "metadata": {
    "collapsed": true
   },
   "outputs": [],
   "source": []
  }
 ],
 "metadata": {
  "kernelspec": {
   "display_name": "Python 3",
   "language": "python",
   "name": "python3"
  },
  "language_info": {
   "codemirror_mode": {
    "name": "ipython",
    "version": 3
   },
   "file_extension": ".py",
   "mimetype": "text/x-python",
   "name": "python",
   "nbconvert_exporter": "python",
   "pygments_lexer": "ipython3",
   "version": "3.6.1"
  }
 },
 "nbformat": 4,
 "nbformat_minor": 2
}
